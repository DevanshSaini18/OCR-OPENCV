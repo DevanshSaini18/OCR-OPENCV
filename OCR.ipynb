{
  "nbformat": 4,
  "nbformat_minor": 0,
  "metadata": {
    "colab": {
      "name": "my copy OCR.ipynb",
      "provenance": [],
      "collapsed_sections": [],
      "authorship_tag": "ABX9TyOlzxbvZdLPAR7FE1P3ZG1w",
      "include_colab_link": true
    },
    "kernelspec": {
      "display_name": "Python 3",
      "name": "python3"
    },
    "language_info": {
      "name": "python"
    },
    "accelerator": "GPU"
  },
  "cells": [
    {
      "cell_type": "markdown",
      "metadata": {
        "id": "view-in-github",
        "colab_type": "text"
      },
      "source": [
        "<a href=\"https://colab.research.google.com/github/DevanshSaini18/OCR-OPENCV/blob/main/OCR.ipynb\" target=\"_parent\"><img src=\"https://colab.research.google.com/assets/colab-badge.svg\" alt=\"Open In Colab\"/></a>"
      ]
    },
    {
      "cell_type": "code",
      "metadata": {
        "id": "FFX0Uw2G6Yzq"
      },
      "source": [
        "arr_geo = None\n",
        "arr_score = None"
      ],
      "execution_count": null,
      "outputs": []
    },
    {
      "cell_type": "code",
      "metadata": {
        "id": "2BMooaM10S0x",
        "colab": {
          "base_uri": "https://localhost:8080/"
        },
        "outputId": "37c902bb-0615-4b82-bd56-54bbda9b9fdf"
      },
      "source": [
        "!pip install pytesseract\n",
        "!pip install opencv-python"
      ],
      "execution_count": null,
      "outputs": [
        {
          "output_type": "stream",
          "text": [
            "Collecting pytesseract\n",
            "  Downloading pytesseract-0.3.8.tar.gz (14 kB)\n",
            "Requirement already satisfied: Pillow in /usr/local/lib/python3.7/dist-packages (from pytesseract) (7.1.2)\n",
            "Building wheels for collected packages: pytesseract\n",
            "  Building wheel for pytesseract (setup.py) ... \u001b[?25l\u001b[?25hdone\n",
            "  Created wheel for pytesseract: filename=pytesseract-0.3.8-py2.py3-none-any.whl size=14071 sha256=32281079a909f3da17a819812d322371994044a0083c5458ac6bd3d24cc9ba9f\n",
            "  Stored in directory: /root/.cache/pip/wheels/a4/89/b9/3f11250225d0f90e5454fcc30fd1b7208db226850715aa9ace\n",
            "Successfully built pytesseract\n",
            "Installing collected packages: pytesseract\n",
            "Successfully installed pytesseract-0.3.8\n",
            "Requirement already satisfied: opencv-python in /usr/local/lib/python3.7/dist-packages (4.1.2.30)\n",
            "Requirement already satisfied: numpy>=1.14.5 in /usr/local/lib/python3.7/dist-packages (from opencv-python) (1.19.5)\n"
          ],
          "name": "stdout"
        }
      ]
    },
    {
      "cell_type": "code",
      "metadata": {
        "id": "cOMzqKwT34ZI",
        "colab": {
          "base_uri": "https://localhost:8080/"
        },
        "outputId": "cbd3d1a1-9c7e-48e1-c8a2-436c79f5fd71"
      },
      "source": [
        "!sudo apt update\n",
        "!sudo apt install tesseract-ocr\n",
        "!sudo apt install libtesseract-dev"
      ],
      "execution_count": null,
      "outputs": [
        {
          "output_type": "stream",
          "text": [
            "\u001b[33m\r0% [Working]\u001b[0m\r            \rGet:1 https://cloud.r-project.org/bin/linux/ubuntu bionic-cran40/ InRelease [3,626 B]\n",
            "Ign:2 https://developer.download.nvidia.com/compute/cuda/repos/ubuntu1804/x86_64  InRelease\n",
            "Ign:3 https://developer.download.nvidia.com/compute/machine-learning/repos/ubuntu1804/x86_64  InRelease\n",
            "Get:4 https://developer.download.nvidia.com/compute/cuda/repos/ubuntu1804/x86_64  Release [697 B]\n",
            "Hit:5 https://developer.download.nvidia.com/compute/machine-learning/repos/ubuntu1804/x86_64  Release\n",
            "Get:6 http://security.ubuntu.com/ubuntu bionic-security InRelease [88.7 kB]\n",
            "Get:7 https://developer.download.nvidia.com/compute/cuda/repos/ubuntu1804/x86_64  Release.gpg [836 B]\n",
            "Get:8 http://ppa.launchpad.net/c2d4u.team/c2d4u4.0+/ubuntu bionic InRelease [15.9 kB]\n",
            "Hit:9 http://archive.ubuntu.com/ubuntu bionic InRelease\n",
            "Ign:11 https://developer.download.nvidia.com/compute/cuda/repos/ubuntu1804/x86_64  Packages\n",
            "Get:12 http://archive.ubuntu.com/ubuntu bionic-updates InRelease [88.7 kB]\n",
            "Get:11 https://developer.download.nvidia.com/compute/cuda/repos/ubuntu1804/x86_64  Packages [679 kB]\n",
            "Get:13 http://security.ubuntu.com/ubuntu bionic-security/universe amd64 Packages [1,420 kB]\n",
            "Hit:14 http://ppa.launchpad.net/cran/libgit2/ubuntu bionic InRelease\n",
            "Get:15 http://archive.ubuntu.com/ubuntu bionic-backports InRelease [74.6 kB]\n",
            "Hit:16 http://ppa.launchpad.net/deadsnakes/ppa/ubuntu bionic InRelease\n",
            "Get:17 http://archive.ubuntu.com/ubuntu bionic-updates/multiverse amd64 Packages [38.7 kB]\n",
            "Get:18 http://archive.ubuntu.com/ubuntu bionic-updates/universe amd64 Packages [2,190 kB]\n",
            "Get:19 http://security.ubuntu.com/ubuntu bionic-security/main amd64 Packages [2,257 kB]\n",
            "Get:20 http://security.ubuntu.com/ubuntu bionic-security/restricted amd64 Packages [500 kB]\n",
            "Get:21 http://security.ubuntu.com/ubuntu bionic-security/multiverse amd64 Packages [31.5 kB]\n",
            "Get:22 http://ppa.launchpad.net/graphics-drivers/ppa/ubuntu bionic InRelease [21.3 kB]\n",
            "Get:23 http://archive.ubuntu.com/ubuntu bionic-updates/restricted amd64 Packages [533 kB]\n",
            "Get:24 http://ppa.launchpad.net/c2d4u.team/c2d4u4.0+/ubuntu bionic/main Sources [1,784 kB]\n",
            "Get:25 http://archive.ubuntu.com/ubuntu bionic-updates/main amd64 Packages [2,693 kB]\n",
            "Get:26 http://ppa.launchpad.net/c2d4u.team/c2d4u4.0+/ubuntu bionic/main amd64 Packages [913 kB]\n",
            "Get:27 http://ppa.launchpad.net/graphics-drivers/ppa/ubuntu bionic/main amd64 Packages [44.1 kB]\n",
            "Fetched 13.4 MB in 4s (3,117 kB/s)\n",
            "Reading package lists... Done\n",
            "Building dependency tree       \n",
            "Reading state information... Done\n",
            "76 packages can be upgraded. Run 'apt list --upgradable' to see them.\n",
            "Reading package lists... Done\n",
            "Building dependency tree       \n",
            "Reading state information... Done\n",
            "The following additional packages will be installed:\n",
            "  tesseract-ocr-eng tesseract-ocr-osd\n",
            "The following NEW packages will be installed:\n",
            "  tesseract-ocr tesseract-ocr-eng tesseract-ocr-osd\n",
            "0 upgraded, 3 newly installed, 0 to remove and 76 not upgraded.\n",
            "Need to get 4,795 kB of archives.\n",
            "After this operation, 15.8 MB of additional disk space will be used.\n",
            "Get:1 http://archive.ubuntu.com/ubuntu bionic/universe amd64 tesseract-ocr-eng all 4.00~git24-0e00fe6-1.2 [1,588 kB]\n",
            "Get:2 http://archive.ubuntu.com/ubuntu bionic/universe amd64 tesseract-ocr-osd all 4.00~git24-0e00fe6-1.2 [2,989 kB]\n",
            "Get:3 http://archive.ubuntu.com/ubuntu bionic/universe amd64 tesseract-ocr amd64 4.00~git2288-10f4998a-2 [218 kB]\n",
            "Fetched 4,795 kB in 2s (3,005 kB/s)\n",
            "debconf: unable to initialize frontend: Dialog\n",
            "debconf: (No usable dialog-like program is installed, so the dialog based frontend cannot be used. at /usr/share/perl5/Debconf/FrontEnd/Dialog.pm line 76, <> line 3.)\n",
            "debconf: falling back to frontend: Readline\n",
            "debconf: unable to initialize frontend: Readline\n",
            "debconf: (This frontend requires a controlling tty.)\n",
            "debconf: falling back to frontend: Teletype\n",
            "dpkg-preconfigure: unable to re-open stdin: \n",
            "Selecting previously unselected package tesseract-ocr-eng.\n",
            "(Reading database ... 160837 files and directories currently installed.)\n",
            "Preparing to unpack .../tesseract-ocr-eng_4.00~git24-0e00fe6-1.2_all.deb ...\n",
            "Unpacking tesseract-ocr-eng (4.00~git24-0e00fe6-1.2) ...\n",
            "Selecting previously unselected package tesseract-ocr-osd.\n",
            "Preparing to unpack .../tesseract-ocr-osd_4.00~git24-0e00fe6-1.2_all.deb ...\n",
            "Unpacking tesseract-ocr-osd (4.00~git24-0e00fe6-1.2) ...\n",
            "Selecting previously unselected package tesseract-ocr.\n",
            "Preparing to unpack .../tesseract-ocr_4.00~git2288-10f4998a-2_amd64.deb ...\n",
            "Unpacking tesseract-ocr (4.00~git2288-10f4998a-2) ...\n",
            "Setting up tesseract-ocr-osd (4.00~git24-0e00fe6-1.2) ...\n",
            "Setting up tesseract-ocr-eng (4.00~git24-0e00fe6-1.2) ...\n",
            "Setting up tesseract-ocr (4.00~git2288-10f4998a-2) ...\n",
            "Processing triggers for man-db (2.8.3-2ubuntu0.1) ...\n",
            "Reading package lists... Done\n",
            "Building dependency tree       \n",
            "Reading state information... Done\n",
            "The following additional packages will be installed:\n",
            "  libleptonica-dev\n",
            "The following NEW packages will be installed:\n",
            "  libleptonica-dev libtesseract-dev\n",
            "0 upgraded, 2 newly installed, 0 to remove and 76 not upgraded.\n",
            "Need to get 2,755 kB of archives.\n",
            "After this operation, 13.8 MB of additional disk space will be used.\n",
            "Get:1 http://archive.ubuntu.com/ubuntu bionic/universe amd64 libleptonica-dev amd64 1.75.3-3 [1,308 kB]\n",
            "Get:2 http://archive.ubuntu.com/ubuntu bionic/universe amd64 libtesseract-dev amd64 4.00~git2288-10f4998a-2 [1,447 kB]\n",
            "Fetched 2,755 kB in 2s (1,803 kB/s)\n",
            "debconf: unable to initialize frontend: Dialog\n",
            "debconf: (No usable dialog-like program is installed, so the dialog based frontend cannot be used. at /usr/share/perl5/Debconf/FrontEnd/Dialog.pm line 76, <> line 2.)\n",
            "debconf: falling back to frontend: Readline\n",
            "debconf: unable to initialize frontend: Readline\n",
            "debconf: (This frontend requires a controlling tty.)\n",
            "debconf: falling back to frontend: Teletype\n",
            "dpkg-preconfigure: unable to re-open stdin: \n",
            "Selecting previously unselected package libleptonica-dev.\n",
            "(Reading database ... 160884 files and directories currently installed.)\n",
            "Preparing to unpack .../libleptonica-dev_1.75.3-3_amd64.deb ...\n",
            "Unpacking libleptonica-dev (1.75.3-3) ...\n",
            "Selecting previously unselected package libtesseract-dev.\n",
            "Preparing to unpack .../libtesseract-dev_4.00~git2288-10f4998a-2_amd64.deb ...\n",
            "Unpacking libtesseract-dev (4.00~git2288-10f4998a-2) ...\n",
            "Setting up libleptonica-dev (1.75.3-3) ...\n",
            "Setting up libtesseract-dev (4.00~git2288-10f4998a-2) ...\n"
          ],
          "name": "stdout"
        }
      ]
    },
    {
      "cell_type": "code",
      "metadata": {
        "id": "OrwQN0Eo1G-l",
        "colab": {
          "base_uri": "https://localhost:8080/"
        },
        "outputId": "ec965a18-4e3a-41d9-84ac-34c09a1fdc82"
      },
      "source": [
        "!wget https://raw.githubusercontent.com/oyyd/frozen_east_text_detection.pb/master/frozen_east_text_detection.pb"
      ],
      "execution_count": null,
      "outputs": [
        {
          "output_type": "stream",
          "text": [
            "--2021-07-21 18:34:10--  https://raw.githubusercontent.com/oyyd/frozen_east_text_detection.pb/master/frozen_east_text_detection.pb\n",
            "Resolving raw.githubusercontent.com (raw.githubusercontent.com)... 185.199.108.133, 185.199.109.133, 185.199.110.133, ...\n",
            "Connecting to raw.githubusercontent.com (raw.githubusercontent.com)|185.199.108.133|:443... connected.\n",
            "HTTP request sent, awaiting response... 200 OK\n",
            "Length: 96662756 (92M) [application/octet-stream]\n",
            "Saving to: ‘frozen_east_text_detection.pb’\n",
            "\n",
            "frozen_east_text_de 100%[===================>]  92.18M   158MB/s    in 0.6s    \n",
            "\n",
            "2021-07-21 18:34:10 (158 MB/s) - ‘frozen_east_text_detection.pb’ saved [96662756/96662756]\n",
            "\n"
          ],
          "name": "stdout"
        }
      ]
    },
    {
      "cell_type": "code",
      "metadata": {
        "id": "Hhmg21t9zf37"
      },
      "source": [
        "# import the necessary packages\n",
        "from imutils.object_detection import non_max_suppression\n",
        "import numpy as np\n",
        "import pytesseract\n",
        "import argparse\n",
        "import cv2\n",
        "from google.colab.patches import cv2_imshow"
      ],
      "execution_count": null,
      "outputs": []
    },
    {
      "cell_type": "code",
      "metadata": {
        "id": "gIFjfkgvwDL5"
      },
      "source": [
        "def decode_predictions(scores, geometry):\n",
        "\t# grab the number of rows and columns from the scores volume, then\n",
        "\t# initialize our set of bounding box rectangles and corresponding\n",
        "\t# confidence scores\n",
        "\t# global arr_score\n",
        "\t# arr_score = scores\n",
        "\t# print(\"scores.shape\",scores.shape)\n",
        "\t# print(\"scores : \",scores)\n",
        "\t# print(\"geometry.shape\",geometry.shape)\n",
        "\t# global arr_geo\n",
        "\t# arr_geo = geometry\n",
        "\t#print(\"geometry : \",geometry)\n",
        "\t(numRows, numCols) = scores.shape[2:4]\n",
        "\trects = []\n",
        "\tconfidences = []\n",
        "\t# loop over the number of rows\n",
        "\tfor y in range(0, numRows):\n",
        "\t\t# extract the scores (probabilities), followed by the\n",
        "\t\t# geometrical data used to derive potential bounding box\n",
        "\t\t# coordinates that surround text\n",
        "\t\tscoresData = scores[0, 0, y]\n",
        "\t\txData0 = geometry[0, 0, y]\n",
        "\t\txData1 = geometry[0, 1, y]\n",
        "\t\txData2 = geometry[0, 2, y]\n",
        "\t\txData3 = geometry[0, 3, y]\n",
        "\t\tanglesData = geometry[0, 4, y]\n",
        "\t\t# loop over the number of columns\n",
        "\t\tfor x in range(0, numCols):\n",
        "\t\t\t# if our score does not have sufficient probability,\n",
        "\t\t\t# ignore it\n",
        "\t\t\tif scoresData[x] < 0.5:\n",
        "\t\t\t\tcontinue\n",
        "\t\t\t# compute the offset factor as our resulting feature\n",
        "\t\t\t# maps will be 4x smaller than the input image\n",
        "\t\t\t(offsetX, offsetY) = (x * 4.0, y * 4.0)\n",
        "\t\t\t# extract the rotation angle for the prediction and\n",
        "\t\t\t# then compute the sin and cosine\n",
        "\t\t\tangle = anglesData[x]\n",
        "\t\t\tcos = np.cos(angle)\n",
        "\t\t\tsin = np.sin(angle)\n",
        "\t\t\t# use the geometry volume to derive the width and height\n",
        "\t\t\t# of the bounding box\n",
        "\t\t\th = xData0[x] + xData2[x]\n",
        "\t\t\tw = xData1[x] + xData3[x]\n",
        "\t\t\t# compute both the starting and ending (x, y)-coordinates\n",
        "\t\t\t# for the text prediction bounding box\n",
        "\t\t\tendX = int(offsetX + (cos * xData1[x]) + (sin * xData2[x]))\n",
        "\t\t\tendY = int(offsetY - (sin * xData1[x]) + (cos * xData2[x]))\n",
        "\t\t\tstartX = int(endX - w)\n",
        "\t\t\tstartY = int(endY - h)\n",
        "\t\t\t# add the bounding box coordinates and probability score\n",
        "\t\t\t# to our respective lists\n",
        "\t\t\trects.append((startX, startY, endX, endY))\n",
        "\t\t\tconfidences.append(scoresData[x])\n",
        "\t# return a tuple of the bounding boxes and associated confidences\n",
        "\treturn (rects, confidences)"
      ],
      "execution_count": null,
      "outputs": []
    },
    {
      "cell_type": "code",
      "metadata": {
        "id": "9oOv-m6RzYJj"
      },
      "source": [
        "# construct the argument parser and parse the arguments\n",
        "# ap = argparse.ArgumentParser()\n",
        "# ap.add_argument(\"-i\", \"--image\", type=str,\n",
        "# \thelp=\"path to input image\")\n",
        "# ap.add_argument(\"-east\", \"--east\", type=str,\n",
        "# \thelp=\"path to input EAST text detector\")\n",
        "# ap.add_argument(\"-c\", \"--min-confidence\", type=float, default=0.5,\n",
        "# \thelp=\"minimum probability required to inspect a region\")\n",
        "# ap.add_argument(\"-w\", \"--width\", type=int, default=320,\n",
        "# \thelp=\"nearest multiple of 32 for resized width\")\n",
        "# ap.add_argument(\"-e\", \"--height\", type=int, default=320,\n",
        "# \thelp=\"nearest multiple of 32 for resized height\")\n",
        "# ap.add_argument(\"-p\", \"--padding\", type=float, default=0.0,\n",
        "# \thelp=\"amount of padding to add to each border of ROI\")\n",
        "# args = vars(ap.parse_args())"
      ],
      "execution_count": null,
      "outputs": []
    },
    {
      "cell_type": "code",
      "metadata": {
        "colab": {
          "base_uri": "https://localhost:8080/"
        },
        "id": "5SzKIa1vzct0",
        "outputId": "a9952e74-8d61-44ea-d081-8bf81dc1ab3a"
      },
      "source": [
        "# load the input image and grab the image dimensions\n",
        "image = cv2.imread(\"/content/example04.png\")\n",
        "#image = cv2.resize(image, (1024, 512))\n",
        "orig = image.copy()\n",
        "(origH, origW) = image.shape[:2]\n",
        "# set the new width and height and then determine the ratio in change\n",
        "# for both the width and height\n",
        "(newW, newH) = (320, 320)\n",
        "rW = origW / float(newW)\n",
        "rH = origH / float(newH)\n",
        "print(\"rw,rh\",rW,rH)\n",
        "# resize the image and grab the new image dimensions\n",
        "image = cv2.resize(image, (newW, newH))\n",
        "(H, W) = image.shape[:2]"
      ],
      "execution_count": null,
      "outputs": [
        {
          "output_type": "stream",
          "text": [
            "rw,rh 0.271875 0.171875\n"
          ],
          "name": "stdout"
        }
      ]
    },
    {
      "cell_type": "code",
      "metadata": {
        "colab": {
          "base_uri": "https://localhost:8080/"
        },
        "id": "LYXz606VzlVQ",
        "outputId": "c5ecb8ee-744e-49e3-b0d4-d6244a46b5c3"
      },
      "source": [
        "# define the two output layer names for the EAST detector model that\n",
        "# we are interested in -- the first is the output probabilities and the\n",
        "# second can be used to derive the bounding box coordinates of text\n",
        "layerNames = [\n",
        "\t\"feature_fusion/Conv_7/Sigmoid\",\n",
        "\t\"feature_fusion/concat_3\"]\n",
        "# load the pre-trained EAST text detector\n",
        "print(\"[INFO] loading EAST text detector...\")\n",
        "net = cv2.dnn.readNet(\"/content/frozen_east_text_detection.pb\")"
      ],
      "execution_count": null,
      "outputs": [
        {
          "output_type": "stream",
          "text": [
            "[INFO] loading EAST text detector...\n"
          ],
          "name": "stdout"
        }
      ]
    },
    {
      "cell_type": "code",
      "metadata": {
        "id": "tfy24BTkznQl"
      },
      "source": [
        "# construct a blob from the image and then perform a forward pass of\n",
        "# the model to obtain the two output layer sets\n",
        "(mean1,mean2,mean3) = (np.mean(image[:][:][0]),np.mean(image[:][:][1]),np.mean(image[:][:][2]))\n",
        "blob = cv2.dnn.blobFromImage(image, 1.0, (W, H),\n",
        "\t(mean1,mean2,mean3), swapRB=True, crop=False)\n",
        "net.setInput(blob)\n",
        "(scores, geometry) = net.forward(layerNames)\n",
        "# decode the predictions, then  apply non-maxima suppression to\n",
        "# suppress weak, overlapping bounding boxes\n",
        "(rects, confidences) = decode_predictions(scores, geometry)\n",
        "boxes = non_max_suppression(np.array(rects), probs=confidences)"
      ],
      "execution_count": null,
      "outputs": []
    },
    {
      "cell_type": "code",
      "metadata": {
        "id": "Hrw8Q-3zzpux"
      },
      "source": [
        "# initialize the list of results\n",
        "results = []\n",
        "# loop over the bounding boxes\n",
        "for (startX, startY, endX, endY) in boxes:\n",
        "\t# scale the bounding box coordinates based on the respective\n",
        "\t# ratios\n",
        "\tstartX = int(startX * rW)\n",
        "\tstartY = int(startY * rH)\n",
        "\tendX = int(endX * rW)\n",
        "\tendY = int(endY * rH)\n",
        "\t# in order to obtain a better OCR of the text we can potentially\n",
        "\t# apply a bit of padding surrounding the bounding box -- here we\n",
        "\t# are computing the deltas in both the x and y directions\n",
        "\tdX = int((endX - startX) * 0.05)\n",
        "\tdY = int((endY - startY) * 0.05)\n",
        "\t# apply padding to each side of the bounding box, respectively\n",
        "\tstartX = max(0, startX - dX)\n",
        "\tstartY = max(0, startY - dY)\n",
        "\tendX = min(origW, endX + (dX * 1))\n",
        "\tendY = min(origH, endY + (dY * 1))\n",
        "\t# extract the actual padded ROI\n",
        "\troi = orig[startY:endY, startX:endX]\n",
        "    \t# in order to apply Tesseract v4 to OCR text we must supply\n",
        "\t# (1) a language, (2) an OEM flag of 4, indicating that the we\n",
        "\t# wish to use the LSTM neural net model for OCR, and finally\n",
        "\t# (3) an OEM value, in this case, 7 which implies that we are\n",
        "\t# treating the ROI as a single line of text\n",
        "\tconfig = (\"-l eng --oem 1 --psm 7\")\n",
        "\ttext = pytesseract.image_to_string(roi, config=config)\n",
        "\t# add the bounding box coordinates and OCR'd text to the list\n",
        "\t# of results\n",
        "\tresults.append(((startX, startY, endX, endY), text))"
      ],
      "execution_count": null,
      "outputs": []
    },
    {
      "cell_type": "code",
      "metadata": {
        "colab": {
          "base_uri": "https://localhost:8080/",
          "height": 157
        },
        "id": "Xyar12FazuD0",
        "outputId": "296ad6ac-2492-452d-e03b-965896086149"
      },
      "source": [
        "# sort the results bounding box coordinates from top to bottom\n",
        "results = sorted(results, key=lambda r:r[0][1])\n",
        "# loop over the results\n",
        "file1 = open(\"MyFile.txt\",\"a\")\n",
        "for ((startX, startY, endX, endY), text) in results:\n",
        "\t# display the text OCR'd by Tesseract\n",
        "\tprint(\"OCR TEXT\")\n",
        "\tprint(\"========\")\n",
        "\tprint(\"{}\\n\".format(text))\n",
        "\t\n",
        "\t# strip out non-ASCII text so we can draw the text on the image\n",
        "\t# using OpenCV, then draw the text and a bounding box surrounding\n",
        "\t# the text region of the input image\n",
        "\ttext = \"\".join([c if ord(c) < 128 else \"\" for c in text]).strip()\n",
        "\tfile1.write(text)\n",
        "\toutput = orig.copy()\n",
        "\tcv2.rectangle(output, (startX, startY), (endX, endY),\n",
        "\t\t(0, 0, 255), 2)\n",
        "\tcv2.putText(output, text, (startX, startY - 5),\n",
        "\t\tcv2.FONT_HERSHEY_SIMPLEX, 1, (0, 0, 255), 2)\n",
        "\t# show the output image\n",
        "\t#cv2.imshow(\"Text Detection\", output)\n",
        "\tcv2_imshow(output)\n",
        "\tcv2.waitKey(0)\n",
        "file1.close()"
      ],
      "execution_count": null,
      "outputs": [
        {
          "output_type": "stream",
          "text": [
            "OCR TEXT\n",
            "========\n",
            "Sample\n",
            "\f\n",
            "\n"
          ],
          "name": "stdout"
        },
        {
          "output_type": "display_data",
          "data": {
            "image/png": "[encoded data removed]",
            "text/plain": [
              "<PIL.Image.Image image mode=RGB size=87x55 at 0x7F13158A8FD0>"
            ]
          },
          "metadata": {
            "tags": []
          }
        }
      ]
    },
    {
      "cell_type": "code",
      "metadata": {
        "id": "bYrP6kb3Whfc"
      },
      "source": [
        "# with open(\"MyFile.txt\", \"r\") as txt_file:\n",
        "#   return txt_file.readlines()"
      ],
      "execution_count": null,
      "outputs": []
    },
    {
      "cell_type": "code",
      "metadata": {
        "colab": {
          "base_uri": "https://localhost:8080/"
        },
        "id": "gO3Wv6YLVnko",
        "outputId": "1273ff0c-985c-4190-b0c1-dd03f1cfa9b4"
      },
      "source": [
        "print(image.shape)"
      ],
      "execution_count": null,
      "outputs": [
        {
          "output_type": "stream",
          "text": [
            "(320, 320, 3)\n"
          ],
          "name": "stdout"
        }
      ]
    },
    {
      "cell_type": "code",
      "metadata": {
        "id": "rhlpaDVSVnik"
      },
      "source": [
        ""
      ],
      "execution_count": null,
      "outputs": []
    },
    {
      "cell_type": "code",
      "metadata": {
        "id": "TrteB1MgVngq"
      },
      "source": [
        ""
      ],
      "execution_count": null,
      "outputs": []
    },
    {
      "cell_type": "code",
      "metadata": {
        "id": "kEDEZaOxVneR"
      },
      "source": [
        ""
      ],
      "execution_count": null,
      "outputs": []
    },
    {
      "cell_type": "code",
      "metadata": {
        "id": "GyWxSeSnVnb4"
      },
      "source": [
        ""
      ],
      "execution_count": null,
      "outputs": []
    },
    {
      "cell_type": "code",
      "metadata": {
        "id": "O004E5M7VnZY"
      },
      "source": [
        ""
      ],
      "execution_count": null,
      "outputs": []
    },
    {
      "cell_type": "code",
      "metadata": {
        "id": "g9prTHrPVnW3"
      },
      "source": [
        ""
      ],
      "execution_count": null,
      "outputs": []
    },
    {
      "cell_type": "code",
      "metadata": {
        "id": "JTRyYyV3VnUR"
      },
      "source": [
        ""
      ],
      "execution_count": null,
      "outputs": []
    }
  ]
}